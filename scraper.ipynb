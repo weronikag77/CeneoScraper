{
 "cells": [
  {
   "cell_type": "markdown",
   "metadata": {},
   "source": [
    "### Import pakietów"
   ]
  },
  {
   "cell_type": "code",
   "execution_count": 8,
   "metadata": {},
   "outputs": [],
   "source": [
    "import os\n",
    "import json\n",
    "import requests\n",
    "from bs4 import BeautifulSoup"
   ]
  },
  {
   "cell_type": "markdown",
   "metadata": {},
   "source": [
    "### Narzędzia"
   ]
  },
  {
   "cell_type": "code",
   "execution_count": 5,
   "metadata": {},
   "outputs": [],
   "source": [
    "def extract(ancestor, selector=None, attribute=None, multiple=False):\n",
    "    if selector:\n",
    "        if multiple:\n",
    "            if attribute:\n",
    "                return [tag(attribute).strip() for tag in ancestor.select(selector)]\n",
    "            return [tag.text.strip() for tag in ancestor.select(selector)]\n",
    "    \n",
    "        if attribute:\n",
    "            try:\n",
    "                return ancestor.select_one(selector)[attribute].strip()\n",
    "            except TypeError:\n",
    "                return None\n",
    "        try:\n",
    "            return ancestor.select_one(selector).text.strip()\n",
    "        except AttributeError:\n",
    "            return None\n",
    "    if attribute:\n",
    "        return ancestor[attribute].strip()\n",
    "    return ancestor.text.strip()\n"
   ]
  },
  {
   "cell_type": "code",
   "execution_count": 6,
   "metadata": {},
   "outputs": [],
   "source": [
    "selectors = {\n",
    "                    \"opinion_id\": (None, \"data-entry-id\"),\n",
    "                    \"author\": (\"span.user-post__author-name\",),\n",
    "                    \"recommendation\": (\"span.user-post__author-recomendation > em\",),\n",
    "                    \"stars\": (\"span.user-post__score-count\",),\n",
    "                    \"content\": (\"div.user-post__text\",),\n",
    "                    \"pros\": (\"div.review-feature__item--positive\", None, True),\n",
    "                    \"cons\": (\"div.review-feature__item--negative\", None, True),\n",
    "                    \"useful\": (\"button.vote-yes > span\",),\n",
    "                    \"unuseful\": (\"button.vote-no > span\",),\n",
    "                    \"post_date\": (\"span.user-post__published > time:nth-child(1)\",'datetime'),\n",
    "                    \"purchase_date\": (\"span.user-post__published > time:nth-child(2)\",'datetime'),\n",
    "                }"
   ]
  },
  {
   "cell_type": "markdown",
   "metadata": {},
   "source": [
    "### Proces ekstrakcji opinii o produkcie ze strony Ceneo.pl"
   ]
  },
  {
   "cell_type": "code",
   "execution_count": 9,
   "metadata": {},
   "outputs": [],
   "source": [
    "with open(\"./headers.json\", \"r\") as jf:\n",
    "    headers = json.load(jf)"
   ]
  },
  {
   "cell_type": "code",
   "execution_count": 17,
   "metadata": {},
   "outputs": [
    {
     "name": "stdout",
     "output_type": "stream",
     "text": [
      "https://www.ceneo.pl/65035604#tab=reviews\n",
      "https://www.ceneo.pl/65035604/opinie-2\n",
      "https://www.ceneo.pl/65035604/opinie-3\n",
      "https://www.ceneo.pl/65035604/opinie-4\n",
      "https://www.ceneo.pl/65035604/opinie-5\n",
      "https://www.ceneo.pl/65035604/opinie-6\n",
      "https://www.ceneo.pl/65035604/opinie-7\n",
      "https://www.ceneo.pl/65035604/opinie-8\n",
      "https://www.ceneo.pl/65035604/opinie-9\n",
      "https://www.ceneo.pl/65035604/opinie-10\n",
      "https://www.ceneo.pl/65035604/opinie-11\n",
      "https://www.ceneo.pl/65035604/opinie-12\n",
      "https://www.ceneo.pl/65035604/opinie-13\n",
      "https://www.ceneo.pl/65035604/opinie-14\n",
      "https://www.ceneo.pl/65035604/opinie-15\n",
      "https://www.ceneo.pl/65035604/opinie-16\n",
      "https://www.ceneo.pl/65035604/opinie-17\n",
      "https://www.ceneo.pl/65035604/opinie-18\n",
      "https://www.ceneo.pl/65035604/opinie-19\n",
      "https://www.ceneo.pl/65035604/opinie-20\n",
      "https://www.ceneo.pl/65035604/opinie-21\n",
      "https://www.ceneo.pl/65035604/opinie-22\n",
      "https://www.ceneo.pl/65035604/opinie-23\n",
      "https://www.ceneo.pl/65035604/opinie-24\n",
      "https://www.ceneo.pl/65035604/opinie-25\n",
      "https://www.ceneo.pl/65035604/opinie-26\n",
      "https://www.ceneo.pl/65035604/opinie-27\n",
      "https://www.ceneo.pl/65035604/opinie-28\n",
      "https://www.ceneo.pl/65035604/opinie-29\n",
      "https://www.ceneo.pl/65035604/opinie-30\n",
      "https://www.ceneo.pl/65035604/opinie-31\n",
      "https://www.ceneo.pl/65035604/opinie-32\n",
      "https://www.ceneo.pl/65035604/opinie-33\n",
      "https://www.ceneo.pl/65035604/opinie-34\n"
     ]
    }
   ],
   "source": [
    "\n",
    "product_id = \"65035604\"\n",
    "next_page = f\"https://www.ceneo.pl/{product_id}#tab=reviews\"\n",
    "all_opinions = []\n",
    "while next_page:\n",
    "    print(next_page)\n",
    "    response = requests.get(next_page, headers=headers)\n",
    "    if response.status_code == 200:\n",
    "        page_dom = BeautifulSoup(response.text, \"html.parser\")\n",
    "        opinions = page_dom.select(\"div.js_product-review:not(.user-post--highlight)\")\n",
    "        for opinion in opinions:\n",
    "            single_opinion = {\n",
    "                key: extract(opinion, *value)\n",
    "                for key, value in selectors.items()\n",
    "\n",
    "            }\n",
    "            all_opinions.append(single_opinion)\n",
    "        try:\n",
    "            next_page = \"https://www.ceneo.pl\"+extract(page_dom, \"a.pagination__next\", \"href\")\n",
    "        except TypeError:\n",
    "            next_page = None\n",
    "    else: print(response.status_code)\n",
    "\n"
   ]
  },
  {
   "cell_type": "markdown",
   "metadata": {},
   "source": [
    "### Zapisanie wyników do bazy danych"
   ]
  },
  {
   "cell_type": "code",
   "execution_count": 18,
   "metadata": {},
   "outputs": [],
   "source": [
    "if not os.path.exists(\"./opinions\"):\n",
    "    os.mkdir(\"./opinions\")"
   ]
  },
  {
   "cell_type": "code",
   "execution_count": 19,
   "metadata": {},
   "outputs": [],
   "source": [
    "with open(f\"./opinions/{product_id}.json\", \"w\", encoding=\"UTF-8\") as jf:\n",
    "    json.dump(all_opinions, jf, indent=4, ensure_ascii=False)"
   ]
  }
 ],
 "metadata": {
  "kernelspec": {
   "display_name": ".venv",
   "language": "python",
   "name": "python3"
  },
  "language_info": {
   "codemirror_mode": {
    "name": "ipython",
    "version": 3
   },
   "file_extension": ".py",
   "mimetype": "text/x-python",
   "name": "python",
   "nbconvert_exporter": "python",
   "pygments_lexer": "ipython3",
   "version": "3.13.3"
  }
 },
 "nbformat": 4,
 "nbformat_minor": 2
}
